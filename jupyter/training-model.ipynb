{
 "cells": [
  {
   "cell_type": "code",
   "execution_count": null,
   "metadata": {},
   "outputs": [],
   "source": [
    "import pickle\n",
    "import numpy as np\n",
    "from sklearn.model_selection import train_test_split\n",
    "from sklearn.ensemble import RandomForestClassifier\n",
    "from sklearn.metrics import accuracy_score"
   ]
  },
  {
   "cell_type": "code",
   "execution_count": 46,
   "metadata": {},
   "outputs": [
    {
     "name": "stdout",
     "output_type": "stream",
     "text": [
      "97.29155602761551% of samples were classified correctly !\n"
     ]
    }
   ],
   "source": [
    "import pickle\n",
    "import numpy as np\n",
    "from sklearn.model_selection import train_test_split\n",
    "from sklearn.ensemble import RandomForestClassifier\n",
    "from sklearn.metrics import accuracy_score\n",
    "import os\n",
    "\n",
    "# Muat data\n",
    "data_dict = pickle.load(open('../data.pickle', 'rb'))\n",
    "\n",
    "# Periksa bentuk dari setiap elemen dalam data_dict['data']\n",
    "# Buat daftar untuk menyimpan data yang valid\n",
    "valid_data = []\n",
    "\n",
    "for sample in data_dict['data']:\n",
    "    if len(sample) == 42:  # Pastikan panjang fitur adalah 42\n",
    "        valid_data.append(sample)\n",
    "\n",
    "# Konversi ke array NumPy\n",
    "data = np.array(valid_data)  # Harus berukuran (n_samples, 42)\n",
    "labels = np.array(data_dict['labels'][:len(valid_data)])  # Sesuaikan dengan jumlah data valid\n",
    "\n",
    "# Membuat labels_dict untuk pemetaan huruf\n",
    "labels_dict = {i: label for i, label in enumerate(sorted(set(labels)))}\n",
    "\n",
    "# Split data menjadi training dan testing\n",
    "x_train, x_test, y_train, y_test = train_test_split(data, labels, test_size=0.2, shuffle=True, stratify=labels)\n",
    "\n",
    "# Inisialisasi dan latih model\n",
    "model = RandomForestClassifier()\n",
    "\n",
    "# Data sudah memiliki bentuk yang sesuai\n",
    "model.fit(x_train, y_train)\n",
    "\n",
    "# Prediksi dan hitung skor akurasi\n",
    "y_predict = model.predict(x_test)\n",
    "score = accuracy_score(y_predict, y_test)\n",
    "print('{}% of samples were classified correctly !'.format(score * 100))\n",
    "\n",
    "# Cek apakah file model.p sudah ada\n",
    "model_filename = 'model.p'\n",
    "if os.path.exists(model_filename):\n",
    "    # Jika ada, rename menjadi model1.p, model2.p, dst.\n",
    "    i = 1\n",
    "    new_filename = f'{os.path.splitext(model_filename)[0]}{i}{os.path.splitext(model_filename)[1]}'\n",
    "    while os.path.exists(new_filename):\n",
    "        i += 1\n",
    "        new_filename = f'{os.path.splitext(model_filename)[0]}{i}{os.path.splitext(model_filename)[1]}'\n",
    "    os.rename(model_filename, new_filename)\n",
    "\n",
    "# Tentukan folder untuk menyimpan model\n",
    "model_folder = '../model/'\n",
    "if not os.path.exists(model_folder):\n",
    "    os.makedirs(model_folder)\n",
    "\n",
    "# Tentukan nama file model dengan increment\n",
    "i = 1\n",
    "model_filename = os.path.join(model_folder, 'rf_model.p')\n",
    "while os.path.exists(model_filename):\n",
    "    model_filename = os.path.join(model_folder, f'rf_model_{i}.p')\n",
    "    i += 1\n",
    "\n",
    "# Simpan model ke file\n",
    "with open(model_filename, 'wb') as f:\n",
    "    pickle.dump({'model': model}, f)"
   ]
  },
  {
   "cell_type": "code",
   "execution_count": null,
   "metadata": {},
   "outputs": [],
   "source": [
    "# # NEURAL NETWORK\n",
    "\n",
    "# from sklearn.neural_network import MLPClassifier\n",
    "\n",
    "# # Inisialisasi model dengan parameter yang sesuai\n",
    "# mlp_model = MLPClassifier(max_iter=1, warm_start=True)\n",
    "\n",
    "# # Latih model selama 100 epoch\n",
    "# for epoch in range(100):\n",
    "#     mlp_model.fit(x_train, y_train)\n",
    "#     y_predict = mlp_model.predict(x_test)\n",
    "#     score = accuracy_score(y_test, y_predict)\n",
    "#     print(f'Epoch {epoch + 1}: {score * 100:.2f}% of samples were classified correctly!')\n",
    "\n",
    "# # Simpan model ke file\n",
    "# model_filename = os.path.join(model_folder, 'mlp_model.p')\n",
    "# with open(model_filename, 'wb') as f:\n",
    "#     pickle.dump({'model': mlp_model}, f)"
   ]
  },
  {
   "cell_type": "code",
   "execution_count": 47,
   "metadata": {},
   "outputs": [
    {
     "name": "stdout",
     "output_type": "stream",
     "text": [
      "              precision    recall  f1-score   support\n",
      "\n",
      "           A       0.98      0.99      0.98        80\n",
      "           B       0.97      0.97      0.97        80\n",
      "           C       0.96      0.99      0.97        79\n",
      "           D       1.00      0.99      0.99        77\n",
      "           E       1.00      0.99      0.99        80\n",
      "           F       0.99      0.95      0.97        78\n",
      "           G       0.96      0.96      0.96        73\n",
      "           H       0.99      0.97      0.98        80\n",
      "           I       0.96      1.00      0.98        79\n",
      "           J       0.98      0.96      0.97        45\n",
      "           K       0.93      0.99      0.96        67\n",
      "           L       0.99      0.99      0.99        80\n",
      "           M       0.98      0.98      0.98        64\n",
      "           N       0.98      0.95      0.97        59\n",
      "           O       0.94      0.97      0.95        76\n",
      "           P       0.96      0.99      0.97        74\n",
      "           Q       0.99      0.95      0.97        75\n",
      "           R       0.94      0.92      0.93        65\n",
      "           S       0.96      0.98      0.97        55\n",
      "           T       0.99      0.97      0.98        74\n",
      "           U       0.99      0.96      0.97        79\n",
      "           V       0.96      0.97      0.97        73\n",
      "           W       0.99      1.00      0.99        80\n",
      "           X       0.97      0.97      0.97        68\n",
      "           Y       0.98      0.95      0.96        86\n",
      "           Z       0.96      0.96      0.96        57\n",
      "\n",
      "    accuracy                           0.97      1883\n",
      "   macro avg       0.97      0.97      0.97      1883\n",
      "weighted avg       0.97      0.97      0.97      1883\n",
      "\n"
     ]
    }
   ],
   "source": [
    "from sklearn.metrics import classification_report\n",
    "\n",
    "# Generate classification report\n",
    "report = classification_report(y_test, y_predict, target_names=[labels_dict[i] for i in sorted(labels_dict.keys())])\n",
    "print(report)"
   ]
  }
 ],
 "metadata": {
  "kernelspec": {
   "display_name": "venv",
   "language": "python",
   "name": "python3"
  },
  "language_info": {
   "codemirror_mode": {
    "name": "ipython",
    "version": 3
   },
   "file_extension": ".py",
   "mimetype": "text/x-python",
   "name": "python",
   "nbconvert_exporter": "python",
   "pygments_lexer": "ipython3",
   "version": "3.11.1"
  }
 },
 "nbformat": 4,
 "nbformat_minor": 2
}
