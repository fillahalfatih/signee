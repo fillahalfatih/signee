{
 "cells": [
  {
   "cell_type": "code",
   "execution_count": null,
   "metadata": {},
   "outputs": [],
   "source": [
    "import os\n",
    "import cv2"
   ]
  },
  {
   "cell_type": "code",
   "execution_count": null,
   "metadata": {},
   "outputs": [],
   "source": [
    "# Tentukan direktori data\n",
    "DATA_DIR = './DATA'\n",
    "if not os.path.exists(DATA_DIR):\n",
    "    os.makedirs(DATA_DIR)\n",
    "\n",
    "# Minta input dari pengguna untuk huruf kelas\n",
    "class_labels = input(\"Masukkan huruf kelas (misalnya A B C ...): \").upper().split()\n",
    "\n",
    "# Tentukan ukuran dataset\n",
    "dataset_size = 300\n",
    "\n",
    "cap = cv2.VideoCapture(0)\n",
    "\n",
    "# Loop untuk setiap kelas yang dimasukkan\n",
    "for label in class_labels:\n",
    "    class_dir = os.path.join(DATA_DIR, label)\n",
    "    if not os.path.exists(class_dir):\n",
    "        os.makedirs(class_dir)\n",
    "\n",
    "    print('Mengumpulkan data untuk kelas {}'.format(label))\n",
    "\n",
    "    # Cari nomor file terakhir yang ada di direktori kelas\n",
    "    existing_files = [f for f in os.listdir(class_dir) if f.endswith('.jpg')]\n",
    "    if existing_files:\n",
    "        last_file_number = max([int(f.split('.')[0]) for f in existing_files])\n",
    "    else:\n",
    "        last_file_number = -1\n",
    "\n",
    "    done = False\n",
    "    while True:\n",
    "        ret, frame = cap.read()\n",
    "\n",
    "        # Posisi dan ukuran teks\n",
    "        text = \"Tekan 'Q' | Mengumpulkan data {}\".format(label)\n",
    "        font = cv2.FONT_HERSHEY_PLAIN\n",
    "        font_scale = 1.3\n",
    "        thickness = 1\n",
    "        text_size = cv2.getTextSize(text, font, font_scale, thickness)[0]\n",
    "        text_x = 150\n",
    "        text_y = 50\n",
    "        box_coords = ((text_x, text_y - text_size[1] - 10), (text_x + text_size[0] + 10, text_y + 10))\n",
    "\n",
    "        # Tambahkan background hitam dengan opacity 50%\n",
    "        overlay = frame.copy()\n",
    "        cv2.rectangle(overlay, box_coords[0], box_coords[1], (0, 0, 0), cv2.FILLED)\n",
    "        cv2.addWeighted(overlay, 0.5, frame, 0.5, 0, frame)\n",
    "\n",
    "        # Tambahkan teks putih di atas background hitam\n",
    "        cv2.putText(frame, text, (text_x, text_y), font, font_scale, (255, 255, 255), thickness, cv2.LINE_AA)\n",
    "\n",
    "        cv2.imshow('frame', frame)\n",
    "        if cv2.waitKey(25) == ord('q'):\n",
    "            break\n",
    "\n",
    "    counter = last_file_number + 1\n",
    "    while counter < last_file_number + 1 + dataset_size:\n",
    "        ret, frame = cap.read()\n",
    "        cv2.imshow('frame', frame)\n",
    "        cv2.waitKey(25)\n",
    "        cv2.imwrite(os.path.join(class_dir, '{}.jpg'.format(counter)), frame)\n",
    "\n",
    "        counter += 1\n",
    "\n",
    "cap.release()\n",
    "cv2.destroyAllWindows()"
   ]
  }
 ],
 "metadata": {
  "kernelspec": {
   "display_name": "venv",
   "language": "python",
   "name": "python3"
  },
  "language_info": {
   "codemirror_mode": {
    "name": "ipython",
    "version": 3
   },
   "file_extension": ".py",
   "mimetype": "text/x-python",
   "name": "python",
   "nbconvert_exporter": "python",
   "pygments_lexer": "ipython3",
   "version": "3.11.1"
  }
 },
 "nbformat": 4,
 "nbformat_minor": 2
}
